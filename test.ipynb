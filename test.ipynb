{
 "cells": [
  {
   "cell_type": "code",
   "execution_count": 1,
   "id": "innovative-fiction",
   "metadata": {
    "lines_to_next_cell": 2
   },
   "outputs": [],
   "source": [
    "import logging\n",
    "import sacrebleu\n",
    "from pathlib import Path\n",
    "import pandas as pd\n",
    "import sys\n",
    "from simpletransformers.t5 import T5Model, T5Args"
   ]
  },
  {
   "cell_type": "code",
   "execution_count": 2,
   "id": "extraordinary-payday",
   "metadata": {},
   "outputs": [],
   "source": [
    "logging.basicConfig(level=logging.INFO)\n",
    "transformers_logger = logging.getLogger(\"transformers\")\n",
    "transformers_logger.setLevel(logging.WARNING)"
   ]
  },
  {
   "cell_type": "code",
   "execution_count": 3,
   "id": "vietnamese-campaign",
   "metadata": {
    "lines_to_next_cell": 2
   },
   "outputs": [],
   "source": [
    "model_args = T5Args()\n",
    "model_args.max_length = 50\n",
    "model_args.length_penalty = 2.0\n",
    "model_args.repetition_penalty = 2.0\n",
    "model_args.num_beams = 5\n",
    "model_args.early_stopping = True\n",
    "#model_args.do_sample = True\n",
    "#model_args.top_p = 0.3\n",
    "model_args.num_return_sequences = 5"
   ]
  },
  {
   "cell_type": "code",
   "execution_count": 4,
   "id": "homeless-filling",
   "metadata": {},
   "outputs": [],
   "source": [
    "#model = T5Model(\"mt5\", \"persiannlp/mt5-base-parsinlu-opus-translation_fa_en\", args=model_args)\n",
    "model_name = \"outputs_t5_small_full_2020/\"\n",
    "task = \"xWant\"\n",
    "model = T5Model(\"t5\", model_name, args=model_args)"
   ]
  },
  {
   "cell_type": "code",
   "execution_count": 5,
   "id": "passive-natural",
   "metadata": {
    "lines_to_next_cell": 2
   },
   "outputs": [
    {
     "name": "stdout",
     "output_type": "stream",
     "text": [
      "predicting\n"
     ]
    }
   ],
   "source": [
    "print(\"predicting\")\n",
    "#print(model.predict([\"xReact: Ali buys a book\",\n",
    "#                     \"xReact: Ali fell on his knees\"]))"
   ]
  },
  {
   "cell_type": "code",
   "execution_count": 6,
   "id": "handmade-exemption",
   "metadata": {
    "lines_to_next_cell": 2
   },
   "outputs": [],
   "source": [
    "df = pd.read_csv(\"data/eval.tsv\", sep=\"\\t\").astype(str)\n",
    "# Prepare the data for testing\n",
    "#df = df.groupby('input_text')['target_text'].apply(list)\n",
    "def my_eval(df, prefix):\n",
    "    df = df.groupby(['prefix','input_text'], as_index=False).agg({'target_text':lambda x: list(x)})\n",
    "    truth_values = df.loc[df[\"prefix\"] == prefix][\"target_text\"].tolist()\n",
    "    input_values = df.loc[df[\"prefix\"] == prefix][\"input_text\"].tolist()\n",
    "    input_values = [prefix + \": \" + str(input_text) for input_text in input_values]\n",
    "\n",
    "    pred_values = model.predict(input_values)\n",
    "    preds = [item[0] for item in pred_values]\n",
    "    \n",
    "    refs = [[] for i in range(5)]\n",
    "    for item in truth_values:\n",
    "        for i in range(5):\n",
    "            if i < len(item):\n",
    "                refs[i].append(item[i])\n",
    "            else:\n",
    "                refs[i].append('')  \n",
    "    bleu_score = sacrebleu.corpus_bleu(preds, refs)\n",
    "    return bleu_score, input_values, truth_values, pred_values\n",
    "    \n",
    "tasks = list(set(df[\"prefix\"].tolist()))"
   ]
  },
  {
   "cell_type": "code",
   "execution_count": 7,
   "id": "hawaiian-knight",
   "metadata": {
    "lines_to_next_cell": 0
   },
   "outputs": [
    {
     "data": {
      "application/vnd.jupyter.widget-view+json": {
       "model_id": "11db63d7ed9d4705a4184e6c6733f4fc",
       "version_major": 2,
       "version_minor": 0
      },
      "text/plain": [
       "Generating outputs:   0%|          | 0/274 [00:00<?, ?it/s]"
      ]
     },
     "metadata": {},
     "output_type": "display_data"
    },
    {
     "name": "stderr",
     "output_type": "stream",
     "text": [
      "/home/pouramini/miniconda3/lib/python3.7/site-packages/transformers/tokenization_utils_base.py:3221: FutureWarning: `prepare_seq2seq_batch` is deprecated and will be removed in version 5 of 🤗 Transformers. Use the regular `__call__` method to prepare your inputs and the tokenizer under the `with_target_tokenizer` context manager to prepare your targets. See the documentation of your specific tokenizer for more details\n",
      "  FutureWarning,\n"
     ]
    },
    {
     "data": {
      "application/vnd.jupyter.widget-view+json": {
       "model_id": "2088e0a9c97f494da088050ba3a43302",
       "version_major": 2,
       "version_minor": 0
      },
      "text/plain": [
       "Decoding outputs:   0%|          | 0/10960 [00:00<?, ?it/s]"
      ]
     },
     "metadata": {},
     "output_type": "display_data"
    },
    {
     "name": "stdout",
     "output_type": "stream",
     "text": [
      "BLEU for xWant:7.83849507565537\n",
      "xWant: PersonX 'd better go : ['to escape from him', 'to resign his job', 'to leave on time', 'to arrive home', 'to relax and unwind', 'to walk away', 'not speak to anyone'] -- to take a shower\n",
      "xWant: PersonX accepts PersonX's diploma : ['to attend  college', 'to get a job', 'get a job', 'apply for college', 'celebrate', 'breathe a sigh of relief'] -- to get a diploma\n",
      "xWant: PersonX accepts PersonY invitation : ['go to engagement', 'make a note', 'to invite other people', 'to talk about the party', 'to go out with PersonY.', 'to drive to the event.'] -- to have a good time\n",
      "xWant: PersonX accepts PersonY offer : ['to start the new relationship', 'to sign documents confirming the offer', 'to discuss with personY', 'to'] -- to thank PersonY for the offer\n",
      "xWant: PersonX accepts PersonY's invitation : ['to honour person Y as a host', 'to attend a good seminar', 'bring gift', 'show up in the event'] -- to have a good time\n",
      "xWant: PersonX accepts PersonY's offer : ['to pay money', 'to look at the goods bought', 'to sign an agreement', 'to discuss the agreement further', 'decide on offer', 'pick whether to accept or decline the proposal'] -- to thank PersonY for it\n",
      "xWant: PersonX accepts ___ in exchange : ['to be civil', 'to make progress', 'to try out the new one', 'to have the new one approved', 'to have the salary', 'to do something in that salary'] -- to get a receipt\n",
      "xWant: PersonX accepts god 's ___ : ['to repent for their sins', 'to seek out a priest', 'to continue to follow God', 'to break away from God', 'To become monk', 'To donate all his money'] -- to go to church\n"
     ]
    }
   ],
   "source": [
    "bleu_score, input_values, truth_values, pred_values = my_eval(df, task)\n",
    "\n",
    "print(\"BLEU for \" + task + \":\" + str(bleu_score.score))\n",
    "\n",
    "sel_args = [\"length_penalty\", \"repetition_penalty\", \"num_beams\", \"do_sample\", \"top_p\", \"top_k\"]\n",
    "Path(f'{model_name}/results/').mkdir(exist_ok=True, parents=True)\n",
    "cc = 1\n",
    "args = model_args.get_args_for_saving()\n",
    "res_name = \"res_\" + task\n",
    "for key, val in args.items():\n",
    "    if key in sel_args:\n",
    "        res_name += \"_\" + key + \"_\" + str(val)\n",
    "\n",
    "with open(f'{model_name}/results/{res_name}.txt', 'w') as f:\n",
    "        print(\"BLEU:\" + str(bleu_score.score), file=f)\n",
    "        for inp, truth, pred in zip(input_values, truth_values, pred_values):\n",
    "            inp = inp.replace(\"as a result PersonX want\",\"\")\n",
    "            cc += 1\n",
    "            if cc < 10:\n",
    "                print(inp,\":\", truth,\"--\", pred[0])\n",
    "            print(inp,\":\", truth,\"--\", pred, file =f)\n",
    "        print(\"Arguments:\", file=f)\n",
    "        for key, val in args.items():\n",
    "            print(key, \"=\", val, file=f)"
   ]
  },
  {
   "cell_type": "code",
   "execution_count": null,
   "id": "precise-photographer",
   "metadata": {
    "lines_to_next_cell": 2
   },
   "outputs": [],
   "source": []
  }
 ],
 "metadata": {
  "jupytext": {
   "cell_metadata_filter": "-all",
   "encoding": "# -*- coding: utf-8 -*-",
   "formats": "ipynb,py:light"
  },
  "kernelspec": {
   "display_name": "Python 3",
   "language": "python",
   "name": "python3"
  },
  "language_info": {
   "codemirror_mode": {
    "name": "ipython",
    "version": 3
   },
   "file_extension": ".py",
   "mimetype": "text/x-python",
   "name": "python",
   "nbconvert_exporter": "python",
   "pygments_lexer": "ipython3",
   "version": "3.7.6"
  }
 },
 "nbformat": 4,
 "nbformat_minor": 4
}
