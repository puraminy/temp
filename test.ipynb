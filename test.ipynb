{
 "cells": [
  {
   "cell_type": "code",
   "execution_count": null,
   "metadata": {
    "lines_to_next_cell": 2
   },
   "outputs": [],
   "source": [
    "import logging\n",
    "import sacrebleu\n",
    "import pandas as pd\n",
    "import sys\n",
    "from simpletransformers.t5 import T5Model, T5Args"
   ]
  },
  {
   "cell_type": "code",
   "execution_count": null,
   "metadata": {},
   "outputs": [],
   "source": [
    "logging.basicConfig(level=logging.INFO)\n",
    "transformers_logger = logging.getLogger(\"transformers\")\n",
    "transformers_logger.setLevel(logging.WARNING)"
   ]
  },
  {
   "cell_type": "code",
   "execution_count": null,
   "metadata": {},
   "outputs": [],
   "source": [
    "model_args = T5Args()\n",
    "model_args.max_length = 512\n",
    "model_args.length_penalty = 1\n",
    "model_args.num_beams = 10"
   ]
  },
  {
   "cell_type": "code",
   "execution_count": null,
   "metadata": {},
   "outputs": [],
   "source": [
    "#model = T5Model(\"mt5\", \"persiannlp/mt5-base-parsinlu-opus-translation_fa_en\", args=model_args)\n",
    "model = T5Model(\"t5\", \"outputs/best_model\", args=model_args)"
   ]
  },
  {
   "cell_type": "code",
   "execution_count": null,
   "metadata": {},
   "outputs": [],
   "source": [
    "eval_df = pd.read_csv(\"data/eval_xWant.tsv\", sep=\"\\t\").astype(str)"
   ]
  },
  {
   "cell_type": "code",
   "execution_count": null,
   "metadata": {},
   "outputs": [],
   "source": [
    "xWant_truth = eval_df.loc[eval_df[\"prefix\"] == \"xWant\"][\"target_text\"].tolist()\n",
    "to_xWant = eval_df.loc[eval_df[\"prefix\"] == \"xWant\"][\"input_text\"].tolist()"
   ]
  },
  {
   "cell_type": "code",
   "execution_count": null,
   "metadata": {
    "lines_to_next_cell": 2
   },
   "outputs": [],
   "source": [
    "test_set = [\"xWant:\" + x for x in to_xWant[:100]]\n",
    "#print(test_set)\n",
    "xWant_preds = model.predict(to_xWant)\n",
    "xWant_preds"
   ]
  },
  {
   "cell_type": "code",
   "execution_count": null,
   "metadata": {},
   "outputs": [],
   "source": [
    "xWant_truth"
   ]
  },
  {
   "cell_type": "code",
   "execution_count": null,
   "metadata": {},
   "outputs": [],
   "source": [
    "len(xWant_truth)"
   ]
  },
  {
   "cell_type": "code",
   "execution_count": null,
   "metadata": {},
   "outputs": [],
   "source": [
    "xWant_bleu = sacrebleu.corpus_bleu(xWant_preds, xWant_truth)\n",
    "print(xWant_bleu.score)\n",
    "\n",
    "with open('test_xWant.txt', 'w') as f:\n",
    "        print(xWant_bleu.score, file=f)\n",
    "        for truth, pred in zip(xWant_truth, xWant_preds):\n",
    "            print(truth,\"--\", pred)\n",
    "            print(truth,\"--\", pred, file =f)"
   ]
  },
  {
   "cell_type": "code",
   "execution_count": null,
   "metadata": {
    "lines_to_next_cell": 2
   },
   "outputs": [],
   "source": [
    "print(\"--------------------------\")\n",
    "print(\"xWant: \", xWant_bleu.score)"
   ]
  },
  {
   "cell_type": "code",
   "execution_count": null,
   "metadata": {},
   "outputs": [],
   "source": [
    "print(\"predicting\")\n",
    "print(model.predict([\"PersonX go to the bar\",\"PersonX hunts\"]))\n",
    "sys.exit()"
   ]
  },
  {
   "cell_type": "code",
   "execution_count": null,
   "metadata": {},
   "outputs": [],
   "source": []
  }
 ],
 "metadata": {
  "jupytext": {
   "cell_metadata_filter": "-all",
   "formats": "ipynb,py",
   "main_language": "python"
  }
 },
 "nbformat": 4,
 "nbformat_minor": 4
}
