{
 "cells": [
  {
   "cell_type": "code",
   "execution_count": 12,
   "metadata": {
    "lines_to_end_of_cell_marker": 2,
    "lines_to_next_cell": 0
   },
   "outputs": [
    {
     "name": "stdout",
     "output_type": "stream",
     "text": [
      "train set ...\n"
     ]
    },
    {
     "name": "stderr",
     "output_type": "stream",
     "text": [
      "100%|██████████| 202271/202271 [00:46<00:00, 4323.95it/s]\n"
     ]
    },
    {
     "name": "stdout",
     "output_type": "stream",
     "text": [
      "test set ...\n"
     ]
    },
    {
     "name": "stderr",
     "output_type": "stream",
     "text": [
      "100%|██████████| 24856/24856 [00:05<00:00, 4369.62it/s]\n"
     ]
    },
    {
     "name": "stdout",
     "output_type": "stream",
     "text": [
      "eval set ...\n"
     ]
    },
    {
     "name": "stderr",
     "output_type": "stream",
     "text": [
      "100%|██████████| 22620/22620 [00:05<00:00, 4371.66it/s]\n"
     ]
    }
   ],
   "source": [
    "import pandas as pd\n",
    "import json\n",
    "\n",
    "\n",
    "import csv\n",
    "from pathlib import Path\n",
    "from tqdm import tqdm\n",
    "    \n",
    "Path(\"data/\").mkdir(parents=True, exist_ok=True)\n",
    "\n",
    "       \n",
    "def write_tsv(src, split, sel_cols):\n",
    "    df = pd.read_csv(src,index_col=0)\n",
    "    df.iloc[:,:9] = df.iloc[:,:9].apply(lambda col: col.apply(json.loads))    \n",
    "    skip =0\n",
    "    fname = \"data/\" + split + \".tsv\"    \n",
    "    with open(fname, 'w') as tsvfile:\n",
    "        writer = csv.writer(tsvfile, delimiter='\\t')\n",
    "        writer.writerow([\"prefix\", \"input_text\", \"target_text\"])\n",
    "        for row, cols in tqdm(df.iterrows(), total=df.shape[0]): \n",
    "            #row = row + \" as a result PersonX want \"\n",
    "            for col in df.columns:\n",
    "                for c in cols[col]:\n",
    "                    if len(c) >= 60:\n",
    "                        skip+=1\n",
    "\n",
    "                    if ((sel_cols == [\"All\"] or col in sel_cols)\n",
    "                        and col != \"prefix\" \n",
    "                        and col != \"split\" and len(c) < 60):\n",
    "                        writer.writerow([col, row, c])                \n",
    "\n",
    "    \n",
    "print(\"train set ...\")\n",
    "write_tsv(\"v4_atomic_trn.csv\", \"train\", [\"All\"])# [\"xWant\",\"xAttr\", \"xNeed\"])\n",
    "print(\"test set ...\")\n",
    "write_tsv(\"v4_atomic_tst.csv\", \"test\", [\"All\"])#, [\"xWant\",\"xAttr\", \"xNeed\"])\n",
    "print(\"eval set ...\")\n",
    "write_tsv(\"v4_atomic_dev.csv\", \"eval\", [\"All\"])#, [\"xWant\",\"xAttr\", \"xNeed\"])"
   ]
  },
  {
   "cell_type": "code",
   "execution_count": null,
   "metadata": {},
   "outputs": [],
   "source": []
  },
  {
   "cell_type": "code",
   "execution_count": null,
   "metadata": {},
   "outputs": [],
   "source": []
  }
 ],
 "metadata": {
  "jupytext": {
   "formats": "ipynb,py"
  },
  "kernelspec": {
   "display_name": "Python 3",
   "language": "python",
   "name": "python3"
  },
  "language_info": {
   "codemirror_mode": {
    "name": "ipython",
    "version": 3
   },
   "file_extension": ".py",
   "mimetype": "text/x-python",
   "name": "python",
   "nbconvert_exporter": "python",
   "pygments_lexer": "ipython3",
   "version": "3.7.6"
  }
 },
 "nbformat": 4,
 "nbformat_minor": 4
}
